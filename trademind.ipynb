{
  "nbformat": 4,
  "nbformat_minor": 0,
  "metadata": {
    "colab": {
      "provenance": [],
      "toc_visible": true,
      "include_colab_link": true
    },
    "kernelspec": {
      "name": "python3",
      "display_name": "Python 3"
    },
    "language_info": {
      "name": "python"
    }
  },
  "cells": [
    {
      "cell_type": "markdown",
      "metadata": {
        "id": "view-in-github",
        "colab_type": "text"
      },
      "source": [
        "<a href=\"https://colab.research.google.com/github/carsonSgit/colabs/blob/main/trademind.ipynb\" target=\"_parent\"><img src=\"https://colab.research.google.com/assets/colab-badge.svg\" alt=\"Open In Colab\"/></a>"
      ]
    },
    {
      "cell_type": "markdown",
      "source": [
        "# Initialization - Loading The Dataset"
      ],
      "metadata": {
        "id": "6MtNbWf9krMG"
      }
    },
    {
      "cell_type": "code",
      "execution_count": null,
      "metadata": {
        "id": "qO_8Eh1M87A7",
        "colab": {
          "base_uri": "https://localhost:8080/"
        },
        "outputId": "c03d533c-070c-4464-bdf9-bb18269d616d"
      },
      "outputs": [
        {
          "output_type": "stream",
          "name": "stdout",
          "text": [
            "Already up to date.\n"
          ]
        }
      ],
      "source": [
        "import pandas as pd\n",
        "import matplotlib.pyplot as plt\n",
        "import pathlib\n",
        "from matplotlib import pyplot as plt\n",
        "import seaborn as sns\n",
        "import matplotlib.dates as mdates\n",
        "\n",
        "DATASET_PATH = pathlib.Path(\"TradeMind/colab/all_stocks_5yr.csv\")\n",
        "\n",
        "if not DATASET_PATH.exists():\n",
        "  !git clone https://github.com/carsonSgit/TradeMind.git\n",
        "else:\n",
        "  # > Runtime > Restart Session if changes were made to helper\n",
        "  !cd TradeMind && git pull && cd ..\n",
        "\n",
        "import sys\n",
        "sys.path.append('TradeMind/colab')\n",
        "\n",
        "from trade_mind_helpers import (\n",
        "    get_training_data,\n",
        "    get_company_by_symbol,\n",
        "    plot_df_time_series\n",
        ")\n",
        "\n",
        "INDEX = pd.read_csv(DATASET_PATH)"
      ]
    },
    {
      "cell_type": "markdown",
      "source": [
        "# Cleaning the data"
      ],
      "metadata": {
        "id": "V0pK0N2McrB3"
      }
    },
    {
      "cell_type": "code",
      "source": [
        "nan = INDEX.isna().any(axis=1)\n",
        "\n",
        "# Get the index positions where NaN values are found\n",
        "nan_indices = nan[nan].index\n",
        "print(nan_indices)\n",
        "# Loop through the found NaN indices\n",
        "for i in nan_indices:\n",
        "    start = max(i - 5, 0)  # Ensure start is not less than 0\n",
        "    end = min(i + 5, len(INDEX))  # Ensure end does not exceed the length of the DataFrame\n",
        "\n",
        "    # Select the surrounding rows, excluding the current NaN row\n",
        "    surrounding_rows = INDEX.iloc[lambda idx: idx.index != i][start:end]\n",
        "    print(surrounding_rows)\n",
        "    # Compute the average, ignoring NaNs\n",
        "    average_values = surrounding_rows.mean(skipna=True)\n",
        "\n",
        "    # Replace NaN values in the row with the computed average\n",
        "    INDEX.iloc[i].fillna(average_values, inplace=True)\n"
      ],
      "metadata": {
        "colab": {
          "base_uri": "https://localhost:8080/"
        },
        "id": "hklIak5obCkP",
        "outputId": "268a0baf-be3c-42d8-a74a-73a42b4923ac"
      },
      "execution_count": null,
      "outputs": [
        {
          "output_type": "stream",
          "name": "stdout",
          "text": [
            "Int64Index([ 82949, 165734, 165857, 205076, 239832, 434379, 434502, 478594,\n",
            "            558213, 581906, 598236],\n",
            "           dtype='int64')\n",
            "             date     open     high    low    close  volume Name\n",
            "82944  2017-07-19  67.9200  69.5100  67.80  68.9500    1805  BHF\n",
            "82945  2017-07-20  69.7489  70.0000  69.00  69.0000   28390  BHF\n",
            "82946  2017-07-21  70.0000  70.0000  68.56  68.9226    1562  BHF\n",
            "82947  2017-07-24  69.0000  69.2900  69.00  69.0000    4650  BHF\n",
            "82948  2017-07-25  69.1461  69.1461  68.95  69.0842    1362  BHF\n",
            "82950  2017-07-27  69.2500  69.2500  68.00  68.0000   12970  BHF\n",
            "82951  2017-07-28  67.2600  67.2600  67.26  67.2600     101  BHF\n",
            "82952  2017-07-31  67.7000  67.7000  65.28  66.0000   19079  BHF\n",
            "82953  2017-08-01  66.6500  66.8600  66.23  66.2500   26784  BHF\n",
            "82954  2017-08-02  65.9800  66.0600  64.83  64.8900  112432  BHF\n",
            "              date   open     high     low  close    volume Name\n",
            "165729  2015-07-10  86.45  86.9200  86.060  86.65   4654491  DHR\n",
            "165730  2015-07-13  87.17  88.1000  86.997  88.00   4938879  DHR\n",
            "165731  2015-07-14  88.25  89.0200  88.110  88.96  14034194  DHR\n",
            "165732  2015-07-15  89.13  89.2000  88.290  88.33   6055558  DHR\n",
            "165733  2015-07-16  88.68  88.8500  88.000  88.70   4356812  DHR\n",
            "165735  2015-07-20  88.72  88.8400  88.410  88.58   2917293  DHR\n",
            "165736  2015-07-21  88.30  88.5400  87.650  87.79   3790038  DHR\n",
            "165737  2015-07-22  87.72  88.2901  87.530  87.86   3831892  DHR\n",
            "165738  2015-07-23  89.00  89.6400  88.220  89.05   7150715  DHR\n",
            "165739  2015-07-24  88.84  89.0600  87.540  87.78   3817226  DHR\n",
            "              date   open     high    low  close   volume Name\n",
            "165852  2016-01-05  91.74  92.1300  91.10  91.85  2850953  DHR\n",
            "165853  2016-01-06  90.78  91.4100  90.07  90.78  3683427  DHR\n",
            "165854  2016-01-07  89.29  90.0000  88.16  88.45  4510314  DHR\n",
            "165855  2016-01-08  88.70  89.6800  88.29  88.50  3347608  DHR\n",
            "165856  2016-01-11  88.85  89.1000  87.61  88.45  3332419  DHR\n",
            "165858  2016-01-13  89.17  89.2100  86.39  86.52  2975550  DHR\n",
            "165859  2016-01-14  86.57  87.8000  85.81  87.31  3080995  DHR\n",
            "165860  2016-01-15  85.94  86.4138  85.07  85.19  4866132  DHR\n",
            "165861  2016-01-19  86.35  86.6100  84.65  85.61  3358632  DHR\n",
            "165862  2016-01-20  84.46  85.6500  83.50  85.00  4732303  DHR\n"
          ]
        },
        {
          "output_type": "stream",
          "name": "stderr",
          "text": [
            "<ipython-input-54-5780c838bf63>:15: FutureWarning: The default value of numeric_only in DataFrame.mean is deprecated. In a future version, it will default to False. In addition, specifying 'numeric_only=None' is deprecated. Select only valid columns or specify the value of numeric_only to silence this warning.\n",
            "  average_values = surrounding_rows.mean(skipna=True)\n",
            "<ipython-input-54-5780c838bf63>:18: SettingWithCopyWarning: \n",
            "A value is trying to be set on a copy of a slice from a DataFrame\n",
            "\n",
            "See the caveats in the documentation: https://pandas.pydata.org/pandas-docs/stable/user_guide/indexing.html#returning-a-view-versus-a-copy\n",
            "  INDEX.iloc[i].fillna(average_values, inplace=True)\n",
            "<ipython-input-54-5780c838bf63>:15: FutureWarning: The default value of numeric_only in DataFrame.mean is deprecated. In a future version, it will default to False. In addition, specifying 'numeric_only=None' is deprecated. Select only valid columns or specify the value of numeric_only to silence this warning.\n",
            "  average_values = surrounding_rows.mean(skipna=True)\n",
            "<ipython-input-54-5780c838bf63>:18: SettingWithCopyWarning: \n",
            "A value is trying to be set on a copy of a slice from a DataFrame\n",
            "\n",
            "See the caveats in the documentation: https://pandas.pydata.org/pandas-docs/stable/user_guide/indexing.html#returning-a-view-versus-a-copy\n",
            "  INDEX.iloc[i].fillna(average_values, inplace=True)\n",
            "<ipython-input-54-5780c838bf63>:15: FutureWarning: The default value of numeric_only in DataFrame.mean is deprecated. In a future version, it will default to False. In addition, specifying 'numeric_only=None' is deprecated. Select only valid columns or specify the value of numeric_only to silence this warning.\n",
            "  average_values = surrounding_rows.mean(skipna=True)\n",
            "<ipython-input-54-5780c838bf63>:18: SettingWithCopyWarning: \n",
            "A value is trying to be set on a copy of a slice from a DataFrame\n",
            "\n",
            "See the caveats in the documentation: https://pandas.pydata.org/pandas-docs/stable/user_guide/indexing.html#returning-a-view-versus-a-copy\n",
            "  INDEX.iloc[i].fillna(average_values, inplace=True)\n",
            "<ipython-input-54-5780c838bf63>:15: FutureWarning: The default value of numeric_only in DataFrame.mean is deprecated. In a future version, it will default to False. In addition, specifying 'numeric_only=None' is deprecated. Select only valid columns or specify the value of numeric_only to silence this warning.\n",
            "  average_values = surrounding_rows.mean(skipna=True)\n",
            "<ipython-input-54-5780c838bf63>:18: SettingWithCopyWarning: \n",
            "A value is trying to be set on a copy of a slice from a DataFrame\n",
            "\n",
            "See the caveats in the documentation: https://pandas.pydata.org/pandas-docs/stable/user_guide/indexing.html#returning-a-view-versus-a-copy\n",
            "  INDEX.iloc[i].fillna(average_values, inplace=True)\n"
          ]
        },
        {
          "output_type": "stream",
          "name": "stdout",
          "text": [
            "              date   open    high      low  close   volume Name\n",
            "205071  2015-07-10  46.74  47.370  46.5400  46.89  1830731   ES\n",
            "205072  2015-07-13  47.15  47.390  46.8101  47.04  1331709   ES\n",
            "205073  2015-07-14  47.04  47.350  46.8901  47.30  1322030   ES\n",
            "205074  2015-07-15  47.30  47.860  47.0700  47.72  1946767   ES\n",
            "205075  2015-07-16  47.68  48.395  47.5800  48.30  1080411   ES\n",
            "205077  2015-07-20  47.85  47.890  47.2100  47.58  1259910   ES\n",
            "205078  2015-07-21  47.58  47.680  46.9300  47.52  1683311   ES\n",
            "205079  2015-07-22  47.64  48.440  47.3600  47.83  3469064   ES\n",
            "205080  2015-07-23  47.82  47.820  46.9600  47.35  2689144   ES\n",
            "205081  2015-07-24  47.29  47.560  47.0400  47.21  2539368   ES\n",
            "              date   open    high     low  close   volume Name\n",
            "239827  2018-02-01  32.44  33.390  32.430  33.35  3552897  FTI\n",
            "239828  2018-02-02  32.94  33.125  32.570  32.68  4313191  FTI\n",
            "239829  2018-02-05  32.62  33.160  31.810  31.83  5812074  FTI\n",
            "239830  2018-02-06  30.87  32.225  30.690  32.14  6370254  FTI\n",
            "239831  2018-02-07  31.56  32.140  30.410  30.48  6863966  FTI\n",
            "239833  2016-07-05  49.40  54.340  48.395  48.60  6230697  FTV\n",
            "239834  2016-07-06  47.07  48.600  46.290  47.75  6706473  FTV\n",
            "239835  2016-07-07  47.62  48.000  47.345  47.74  5486829  FTV\n",
            "239836  2016-07-08  47.96  50.610  47.530  50.20  4243498  FTV\n",
            "239837  2016-07-11  49.21  51.230  48.980  51.12  6042339  FTV\n",
            "              date   open    high     low  close   volume Name\n",
            "434374  2015-07-10  46.10  46.630  45.905  46.36  1684821    O\n",
            "434375  2015-07-13  46.43  46.850  45.790  46.16  1722236    O\n",
            "434376  2015-07-14  46.33  46.500  46.010  46.45  1173175    O\n",
            "434377  2015-07-15  46.29  46.760  46.240  46.71  1170661    O\n",
            "434378  2015-07-16  46.85  47.220  46.630  47.20  1282309    O\n",
            "434380  2015-07-20  46.86  47.190  46.660  47.19   945934    O\n",
            "434381  2015-07-21  47.13  47.400  47.000  47.00  1536598    O\n",
            "434382  2015-07-22  47.06  47.400  47.060  47.27  1058355    O\n",
            "434383  2015-07-23  47.20  47.250  46.480  46.78  1410603    O\n",
            "434384  2015-07-24  46.70  47.265  46.670  47.08  1450877    O\n",
            "              date   open     high    low  close   volume Name\n",
            "434497  2016-01-05  51.39  52.4300  51.21  52.29  1944173    O\n",
            "434498  2016-01-06  51.86  52.6000  51.86  52.60  1769017    O\n",
            "434499  2016-01-07  51.68  52.4900  50.64  51.69  2145952    O\n",
            "434500  2016-01-08  51.76  52.1300  51.10  51.17  1581869    O\n",
            "434501  2016-01-11  51.39  52.5400  51.30  52.27  2261085    O\n",
            "434503  2016-01-13  52.45  53.1650  51.70  51.84  2608699    O\n",
            "434504  2016-01-14  51.98  52.7800  51.65  52.25  2713424    O\n",
            "434505  2016-01-15  51.68  52.2900  51.09  52.19  3405973    O\n",
            "434506  2016-01-19  52.51  53.2800  52.30  53.01  1986730    O\n",
            "434507  2016-01-20  52.71  52.8429  50.96  51.87  2865638    O\n"
          ]
        },
        {
          "output_type": "stream",
          "name": "stderr",
          "text": [
            "<ipython-input-54-5780c838bf63>:15: FutureWarning: The default value of numeric_only in DataFrame.mean is deprecated. In a future version, it will default to False. In addition, specifying 'numeric_only=None' is deprecated. Select only valid columns or specify the value of numeric_only to silence this warning.\n",
            "  average_values = surrounding_rows.mean(skipna=True)\n",
            "<ipython-input-54-5780c838bf63>:18: SettingWithCopyWarning: \n",
            "A value is trying to be set on a copy of a slice from a DataFrame\n",
            "\n",
            "See the caveats in the documentation: https://pandas.pydata.org/pandas-docs/stable/user_guide/indexing.html#returning-a-view-versus-a-copy\n",
            "  INDEX.iloc[i].fillna(average_values, inplace=True)\n",
            "<ipython-input-54-5780c838bf63>:15: FutureWarning: The default value of numeric_only in DataFrame.mean is deprecated. In a future version, it will default to False. In addition, specifying 'numeric_only=None' is deprecated. Select only valid columns or specify the value of numeric_only to silence this warning.\n",
            "  average_values = surrounding_rows.mean(skipna=True)\n",
            "<ipython-input-54-5780c838bf63>:18: SettingWithCopyWarning: \n",
            "A value is trying to be set on a copy of a slice from a DataFrame\n",
            "\n",
            "See the caveats in the documentation: https://pandas.pydata.org/pandas-docs/stable/user_guide/indexing.html#returning-a-view-versus-a-copy\n",
            "  INDEX.iloc[i].fillna(average_values, inplace=True)\n",
            "<ipython-input-54-5780c838bf63>:15: FutureWarning: The default value of numeric_only in DataFrame.mean is deprecated. In a future version, it will default to False. In addition, specifying 'numeric_only=None' is deprecated. Select only valid columns or specify the value of numeric_only to silence this warning.\n",
            "  average_values = surrounding_rows.mean(skipna=True)\n",
            "<ipython-input-54-5780c838bf63>:18: SettingWithCopyWarning: \n",
            "A value is trying to be set on a copy of a slice from a DataFrame\n",
            "\n",
            "See the caveats in the documentation: https://pandas.pydata.org/pandas-docs/stable/user_guide/indexing.html#returning-a-view-versus-a-copy\n",
            "  INDEX.iloc[i].fillna(average_values, inplace=True)\n",
            "<ipython-input-54-5780c838bf63>:15: FutureWarning: The default value of numeric_only in DataFrame.mean is deprecated. In a future version, it will default to False. In addition, specifying 'numeric_only=None' is deprecated. Select only valid columns or specify the value of numeric_only to silence this warning.\n",
            "  average_values = surrounding_rows.mean(skipna=True)\n",
            "<ipython-input-54-5780c838bf63>:18: SettingWithCopyWarning: \n",
            "A value is trying to be set on a copy of a slice from a DataFrame\n",
            "\n",
            "See the caveats in the documentation: https://pandas.pydata.org/pandas-docs/stable/user_guide/indexing.html#returning-a-view-versus-a-copy\n",
            "  INDEX.iloc[i].fillna(average_values, inplace=True)\n"
          ]
        },
        {
          "output_type": "stream",
          "name": "stdout",
          "text": [
            "              date    open    high       low   close   volume  Name\n",
            "478589  2015-06-02  511.25  512.95  505.2500  508.90   641752  REGN\n",
            "478590  2015-06-03  509.64  514.91  508.7750  514.22   627927  REGN\n",
            "478591  2015-06-04  510.84  519.80  510.1900  518.62   816693  REGN\n",
            "478592  2015-06-05  519.40  539.80  516.8500  539.40  1205629  REGN\n",
            "478593  2015-06-08  540.98  544.00  525.5600  526.09  1025896  REGN\n",
            "478595  2015-06-10  505.73  513.73  498.6024  512.32  1810879  REGN\n",
            "478596  2015-06-11  513.29  514.85  499.9000  501.10  1115595  REGN\n",
            "478597  2015-06-12  499.44  500.78  490.8680  492.29   983899  REGN\n",
            "478598  2015-06-15  490.11  499.90  482.9175  499.06  1302585  REGN\n",
            "478599  2015-06-16  498.18  505.15  497.0654  501.76   639015  REGN\n",
            "              date   open     high      low  close   volume Name\n",
            "558208  2018-02-01  67.22  67.9500  66.2300  67.15  5603314  UAL\n",
            "558209  2018-02-02  66.63  66.8900  65.4800  65.68  4189758  UAL\n",
            "558210  2018-02-05  65.00  65.4400  63.2811  63.40  5433829  UAL\n",
            "558211  2018-02-06  62.16  64.2200  61.9600  63.95  4670812  UAL\n",
            "558212  2018-02-07  63.84  66.5783  63.7500  65.36  5694871  UAL\n",
            "558214  2016-04-08  41.61  44.3500  41.3214  44.02  3602269   UA\n",
            "558215  2016-04-11  43.64  43.6800  40.9700  41.46  4094862   UA\n",
            "558216  2016-04-12  41.25  41.6600  40.2300  41.65  3613194   UA\n",
            "558217  2016-04-13  41.33  42.6800  41.3300  41.80  4425387   UA\n",
            "558218  2016-04-14  41.99  42.8600  41.9100  42.23  2525995   UA\n",
            "              date    open      high       low   close   volume  Name\n",
            "581901  2015-05-05  125.42  126.2200  121.1500  122.15  1434216  VRTX\n",
            "581902  2015-05-06  122.61  125.1600  121.3750  122.93  1266632  VRTX\n",
            "581903  2015-05-07  122.89  125.7800  121.1700  125.05  1306153  VRTX\n",
            "581904  2015-05-08  124.50  131.4200  124.5000  127.41  2294548  VRTX\n",
            "581905  2015-05-11  129.00  129.5300  123.5300  124.08  2293675  VRTX\n",
            "581907  2015-05-13  131.25  131.3600  125.0000  125.52  3879416  VRTX\n",
            "581908  2015-05-14  126.00  126.4800  121.0166  123.00  2637053  VRTX\n",
            "581909  2015-05-15  124.17  127.1100  123.5416  126.21  2213209  VRTX\n",
            "581910  2015-05-18  126.21  127.4700  125.1555  127.31  1641804  VRTX\n",
            "581911  2015-05-19  127.29  129.1524  126.4139  128.31  1097069  VRTX\n",
            "              date   open    high    low  close   volume Name\n",
            "598231  2018-02-05  86.10  86.210  81.49  81.75  4412439   WM\n",
            "598232  2018-02-06  80.91  82.969  78.87  81.80  5892379   WM\n",
            "598233  2018-02-07  81.88  83.470  81.63  81.73  2842171   WM\n",
            "598234  2015-06-24  63.45  63.450  63.38  63.38     3300  WRK\n",
            "598235  2015-06-25  62.90  62.900  61.90  61.90     3700  WRK\n",
            "598237  2015-06-29  60.92  60.920  60.80  60.80      300  WRK\n",
            "598238  2015-06-30  61.33  61.400  60.33  60.90  1815537  WRK\n",
            "598239  2015-07-01  60.74  62.400  60.63  62.40   192377  WRK\n",
            "598240  2015-07-02  63.00  65.000  62.40  64.99  1744987  WRK\n",
            "598241  2015-07-06  65.12  66.400  62.99  63.75  2092257  WRK\n"
          ]
        },
        {
          "output_type": "stream",
          "name": "stderr",
          "text": [
            "<ipython-input-54-5780c838bf63>:15: FutureWarning: The default value of numeric_only in DataFrame.mean is deprecated. In a future version, it will default to False. In addition, specifying 'numeric_only=None' is deprecated. Select only valid columns or specify the value of numeric_only to silence this warning.\n",
            "  average_values = surrounding_rows.mean(skipna=True)\n",
            "<ipython-input-54-5780c838bf63>:18: SettingWithCopyWarning: \n",
            "A value is trying to be set on a copy of a slice from a DataFrame\n",
            "\n",
            "See the caveats in the documentation: https://pandas.pydata.org/pandas-docs/stable/user_guide/indexing.html#returning-a-view-versus-a-copy\n",
            "  INDEX.iloc[i].fillna(average_values, inplace=True)\n",
            "<ipython-input-54-5780c838bf63>:15: FutureWarning: The default value of numeric_only in DataFrame.mean is deprecated. In a future version, it will default to False. In addition, specifying 'numeric_only=None' is deprecated. Select only valid columns or specify the value of numeric_only to silence this warning.\n",
            "  average_values = surrounding_rows.mean(skipna=True)\n",
            "<ipython-input-54-5780c838bf63>:18: SettingWithCopyWarning: \n",
            "A value is trying to be set on a copy of a slice from a DataFrame\n",
            "\n",
            "See the caveats in the documentation: https://pandas.pydata.org/pandas-docs/stable/user_guide/indexing.html#returning-a-view-versus-a-copy\n",
            "  INDEX.iloc[i].fillna(average_values, inplace=True)\n",
            "<ipython-input-54-5780c838bf63>:15: FutureWarning: The default value of numeric_only in DataFrame.mean is deprecated. In a future version, it will default to False. In addition, specifying 'numeric_only=None' is deprecated. Select only valid columns or specify the value of numeric_only to silence this warning.\n",
            "  average_values = surrounding_rows.mean(skipna=True)\n",
            "<ipython-input-54-5780c838bf63>:18: SettingWithCopyWarning: \n",
            "A value is trying to be set on a copy of a slice from a DataFrame\n",
            "\n",
            "See the caveats in the documentation: https://pandas.pydata.org/pandas-docs/stable/user_guide/indexing.html#returning-a-view-versus-a-copy\n",
            "  INDEX.iloc[i].fillna(average_values, inplace=True)\n"
          ]
        }
      ]
    },
    {
      "cell_type": "code",
      "source": [
        "nan = INDEX.iloc[82949]\n",
        "nan"
      ],
      "metadata": {
        "colab": {
          "base_uri": "https://localhost:8080/"
        },
        "id": "X9Qzv8ysgObu",
        "outputId": "8037f910-6b2b-486f-c33b-5db1cd73c384"
      },
      "execution_count": null,
      "outputs": [
        {
          "output_type": "execute_result",
          "data": {
            "text/plain": [
              "date      2017-07-26\n",
              "open             NaN\n",
              "high             NaN\n",
              "low              NaN\n",
              "close        69.0842\n",
              "volume             3\n",
              "Name             BHF\n",
              "Name: 82949, dtype: object"
            ]
          },
          "metadata": {},
          "execution_count": 53
        }
      ]
    },
    {
      "cell_type": "markdown",
      "source": [
        "# Training The Model"
      ],
      "metadata": {
        "id": "wN7aaqf31tzC"
      }
    },
    {
      "cell_type": "code",
      "source": [
        "import tensorflow as tf\n",
        "import numpy as np\n",
        "from sklearn.preprocessing import MinMaxScaler\n",
        "\n",
        "train_df, test_df = get_training_data(INDEX)\n",
        "\n",
        "scaler = MinMaxScaler()\n",
        "scaled_data_train = scaler.fit_transform(train_df[['close', 'volume', 'open']])\n",
        "scaled_data_test = scaler.fit_transform(test_df[['close', 'volume', 'open']])\n",
        "# test_df[['open', 'high', 'low', 'close', 'volume']] open high and low have nan values\n",
        "\n",
        "steps = 10 # tweak [closing price, closing price, closing price 3] = [closing price 3]\n",
        "\n",
        "model = tf.keras.models.Sequential([\n",
        "    tf.keras.layers.LSTM(64, activation='tanh', input_shape=(steps, 3), return_sequences=True),\n",
        "    tf.keras.layers.Dropout(0.2),\n",
        "    tf.keras.layers.LSTM(32, activation='tanh'),\n",
        "    tf.keras.layers.Dense(1)\n",
        "])\n",
        "\n",
        "def create_sequences(data, steps):\n",
        "    X, y = [], []\n",
        "    for i in range(len(data) - steps):\n",
        "        X.append(data[i:(i + steps), :])\n",
        "        y.append(data[i + steps, 0])  # Assuming 'close' is at index 0\n",
        "    return np.array(X), np.array(y)\n",
        "\n",
        "X_train, y_train = create_sequences(scaled_data_train, steps)\n",
        "X_test, y_test = create_sequences(scaled_data_test, steps)\n",
        "\n",
        "model.compile(optimizer='adam', loss='mse', metrics=['mae'])\n",
        "\n",
        "history = model.fit(\n",
        "    X_train, y_train,\n",
        "    epochs=10, # tweak\n",
        "    batch_size=32, # tweak\n",
        "    validation_split=0.1 # Look into / tweak\n",
        ")"
      ],
      "metadata": {
        "colab": {
          "base_uri": "https://localhost:8080/",
          "height": 391
        },
        "id": "4eGHnOBf1-JW",
        "outputId": "69e5ba94-d6ee-4124-8eff-685bafbb5589"
      },
      "execution_count": null,
      "outputs": [
        {
          "output_type": "stream",
          "name": "stdout",
          "text": [
            "Epoch 1/10\n",
            " 1227/15383 [=>............................] - ETA: 2:58 - loss: nan - mae: nan"
          ]
        },
        {
          "output_type": "error",
          "ename": "KeyboardInterrupt",
          "evalue": "",
          "traceback": [
            "\u001b[0;31m---------------------------------------------------------------------------\u001b[0m",
            "\u001b[0;31mKeyboardInterrupt\u001b[0m                         Traceback (most recent call last)",
            "\u001b[0;32m<ipython-input-10-60a69c610777>\u001b[0m in \u001b[0;36m<cell line: 33>\u001b[0;34m()\u001b[0m\n\u001b[1;32m     31\u001b[0m \u001b[0mmodel\u001b[0m\u001b[0;34m.\u001b[0m\u001b[0mcompile\u001b[0m\u001b[0;34m(\u001b[0m\u001b[0moptimizer\u001b[0m\u001b[0;34m=\u001b[0m\u001b[0;34m'adam'\u001b[0m\u001b[0;34m,\u001b[0m \u001b[0mloss\u001b[0m\u001b[0;34m=\u001b[0m\u001b[0;34m'mse'\u001b[0m\u001b[0;34m,\u001b[0m \u001b[0mmetrics\u001b[0m\u001b[0;34m=\u001b[0m\u001b[0;34m[\u001b[0m\u001b[0;34m'mae'\u001b[0m\u001b[0;34m]\u001b[0m\u001b[0;34m)\u001b[0m\u001b[0;34m\u001b[0m\u001b[0;34m\u001b[0m\u001b[0m\n\u001b[1;32m     32\u001b[0m \u001b[0;34m\u001b[0m\u001b[0m\n\u001b[0;32m---> 33\u001b[0;31m history = model.fit(\n\u001b[0m\u001b[1;32m     34\u001b[0m     \u001b[0mX_train\u001b[0m\u001b[0;34m,\u001b[0m \u001b[0my_train\u001b[0m\u001b[0;34m,\u001b[0m\u001b[0;34m\u001b[0m\u001b[0;34m\u001b[0m\u001b[0m\n\u001b[1;32m     35\u001b[0m     \u001b[0mepochs\u001b[0m\u001b[0;34m=\u001b[0m\u001b[0;36m10\u001b[0m\u001b[0;34m,\u001b[0m \u001b[0;31m# tweak\u001b[0m\u001b[0;34m\u001b[0m\u001b[0;34m\u001b[0m\u001b[0m\n",
            "\u001b[0;32m/usr/local/lib/python3.10/dist-packages/keras/src/utils/traceback_utils.py\u001b[0m in \u001b[0;36merror_handler\u001b[0;34m(*args, **kwargs)\u001b[0m\n\u001b[1;32m     63\u001b[0m         \u001b[0mfiltered_tb\u001b[0m \u001b[0;34m=\u001b[0m \u001b[0;32mNone\u001b[0m\u001b[0;34m\u001b[0m\u001b[0;34m\u001b[0m\u001b[0m\n\u001b[1;32m     64\u001b[0m         \u001b[0;32mtry\u001b[0m\u001b[0;34m:\u001b[0m\u001b[0;34m\u001b[0m\u001b[0;34m\u001b[0m\u001b[0m\n\u001b[0;32m---> 65\u001b[0;31m             \u001b[0;32mreturn\u001b[0m \u001b[0mfn\u001b[0m\u001b[0;34m(\u001b[0m\u001b[0;34m*\u001b[0m\u001b[0margs\u001b[0m\u001b[0;34m,\u001b[0m \u001b[0;34m**\u001b[0m\u001b[0mkwargs\u001b[0m\u001b[0;34m)\u001b[0m\u001b[0;34m\u001b[0m\u001b[0;34m\u001b[0m\u001b[0m\n\u001b[0m\u001b[1;32m     66\u001b[0m         \u001b[0;32mexcept\u001b[0m \u001b[0mException\u001b[0m \u001b[0;32mas\u001b[0m \u001b[0me\u001b[0m\u001b[0;34m:\u001b[0m\u001b[0;34m\u001b[0m\u001b[0;34m\u001b[0m\u001b[0m\n\u001b[1;32m     67\u001b[0m             \u001b[0mfiltered_tb\u001b[0m \u001b[0;34m=\u001b[0m \u001b[0m_process_traceback_frames\u001b[0m\u001b[0;34m(\u001b[0m\u001b[0me\u001b[0m\u001b[0;34m.\u001b[0m\u001b[0m__traceback__\u001b[0m\u001b[0;34m)\u001b[0m\u001b[0;34m\u001b[0m\u001b[0;34m\u001b[0m\u001b[0m\n",
            "\u001b[0;32m/usr/local/lib/python3.10/dist-packages/keras/src/engine/training.py\u001b[0m in \u001b[0;36mfit\u001b[0;34m(self, x, y, batch_size, epochs, verbose, callbacks, validation_split, validation_data, shuffle, class_weight, sample_weight, initial_epoch, steps_per_epoch, validation_steps, validation_batch_size, validation_freq, max_queue_size, workers, use_multiprocessing)\u001b[0m\n\u001b[1;32m   1805\u001b[0m                         ):\n\u001b[1;32m   1806\u001b[0m                             \u001b[0mcallbacks\u001b[0m\u001b[0;34m.\u001b[0m\u001b[0mon_train_batch_begin\u001b[0m\u001b[0;34m(\u001b[0m\u001b[0mstep\u001b[0m\u001b[0;34m)\u001b[0m\u001b[0;34m\u001b[0m\u001b[0;34m\u001b[0m\u001b[0m\n\u001b[0;32m-> 1807\u001b[0;31m                             \u001b[0mtmp_logs\u001b[0m \u001b[0;34m=\u001b[0m \u001b[0mself\u001b[0m\u001b[0;34m.\u001b[0m\u001b[0mtrain_function\u001b[0m\u001b[0;34m(\u001b[0m\u001b[0miterator\u001b[0m\u001b[0;34m)\u001b[0m\u001b[0;34m\u001b[0m\u001b[0;34m\u001b[0m\u001b[0m\n\u001b[0m\u001b[1;32m   1808\u001b[0m                             \u001b[0;32mif\u001b[0m \u001b[0mdata_handler\u001b[0m\u001b[0;34m.\u001b[0m\u001b[0mshould_sync\u001b[0m\u001b[0;34m:\u001b[0m\u001b[0;34m\u001b[0m\u001b[0;34m\u001b[0m\u001b[0m\n\u001b[1;32m   1809\u001b[0m                                 \u001b[0mcontext\u001b[0m\u001b[0;34m.\u001b[0m\u001b[0masync_wait\u001b[0m\u001b[0;34m(\u001b[0m\u001b[0;34m)\u001b[0m\u001b[0;34m\u001b[0m\u001b[0;34m\u001b[0m\u001b[0m\n",
            "\u001b[0;32m/usr/local/lib/python3.10/dist-packages/tensorflow/python/util/traceback_utils.py\u001b[0m in \u001b[0;36merror_handler\u001b[0;34m(*args, **kwargs)\u001b[0m\n\u001b[1;32m    148\u001b[0m     \u001b[0mfiltered_tb\u001b[0m \u001b[0;34m=\u001b[0m \u001b[0;32mNone\u001b[0m\u001b[0;34m\u001b[0m\u001b[0;34m\u001b[0m\u001b[0m\n\u001b[1;32m    149\u001b[0m     \u001b[0;32mtry\u001b[0m\u001b[0;34m:\u001b[0m\u001b[0;34m\u001b[0m\u001b[0;34m\u001b[0m\u001b[0m\n\u001b[0;32m--> 150\u001b[0;31m       \u001b[0;32mreturn\u001b[0m \u001b[0mfn\u001b[0m\u001b[0;34m(\u001b[0m\u001b[0;34m*\u001b[0m\u001b[0margs\u001b[0m\u001b[0;34m,\u001b[0m \u001b[0;34m**\u001b[0m\u001b[0mkwargs\u001b[0m\u001b[0;34m)\u001b[0m\u001b[0;34m\u001b[0m\u001b[0;34m\u001b[0m\u001b[0m\n\u001b[0m\u001b[1;32m    151\u001b[0m     \u001b[0;32mexcept\u001b[0m \u001b[0mException\u001b[0m \u001b[0;32mas\u001b[0m \u001b[0me\u001b[0m\u001b[0;34m:\u001b[0m\u001b[0;34m\u001b[0m\u001b[0;34m\u001b[0m\u001b[0m\n\u001b[1;32m    152\u001b[0m       \u001b[0mfiltered_tb\u001b[0m \u001b[0;34m=\u001b[0m \u001b[0m_process_traceback_frames\u001b[0m\u001b[0;34m(\u001b[0m\u001b[0me\u001b[0m\u001b[0;34m.\u001b[0m\u001b[0m__traceback__\u001b[0m\u001b[0;34m)\u001b[0m\u001b[0;34m\u001b[0m\u001b[0;34m\u001b[0m\u001b[0m\n",
            "\u001b[0;32m/usr/local/lib/python3.10/dist-packages/tensorflow/python/eager/polymorphic_function/polymorphic_function.py\u001b[0m in \u001b[0;36m__call__\u001b[0;34m(self, *args, **kwds)\u001b[0m\n\u001b[1;32m    830\u001b[0m \u001b[0;34m\u001b[0m\u001b[0m\n\u001b[1;32m    831\u001b[0m       \u001b[0;32mwith\u001b[0m \u001b[0mOptionalXlaContext\u001b[0m\u001b[0;34m(\u001b[0m\u001b[0mself\u001b[0m\u001b[0;34m.\u001b[0m\u001b[0m_jit_compile\u001b[0m\u001b[0;34m)\u001b[0m\u001b[0;34m:\u001b[0m\u001b[0;34m\u001b[0m\u001b[0;34m\u001b[0m\u001b[0m\n\u001b[0;32m--> 832\u001b[0;31m         \u001b[0mresult\u001b[0m \u001b[0;34m=\u001b[0m \u001b[0mself\u001b[0m\u001b[0;34m.\u001b[0m\u001b[0m_call\u001b[0m\u001b[0;34m(\u001b[0m\u001b[0;34m*\u001b[0m\u001b[0margs\u001b[0m\u001b[0;34m,\u001b[0m \u001b[0;34m**\u001b[0m\u001b[0mkwds\u001b[0m\u001b[0;34m)\u001b[0m\u001b[0;34m\u001b[0m\u001b[0;34m\u001b[0m\u001b[0m\n\u001b[0m\u001b[1;32m    833\u001b[0m \u001b[0;34m\u001b[0m\u001b[0m\n\u001b[1;32m    834\u001b[0m       \u001b[0mnew_tracing_count\u001b[0m \u001b[0;34m=\u001b[0m \u001b[0mself\u001b[0m\u001b[0;34m.\u001b[0m\u001b[0mexperimental_get_tracing_count\u001b[0m\u001b[0;34m(\u001b[0m\u001b[0;34m)\u001b[0m\u001b[0;34m\u001b[0m\u001b[0;34m\u001b[0m\u001b[0m\n",
            "\u001b[0;32m/usr/local/lib/python3.10/dist-packages/tensorflow/python/eager/polymorphic_function/polymorphic_function.py\u001b[0m in \u001b[0;36m_call\u001b[0;34m(self, *args, **kwds)\u001b[0m\n\u001b[1;32m    866\u001b[0m       \u001b[0;31m# In this case we have created variables on the first call, so we run the\u001b[0m\u001b[0;34m\u001b[0m\u001b[0;34m\u001b[0m\u001b[0m\n\u001b[1;32m    867\u001b[0m       \u001b[0;31m# defunned version which is guaranteed to never create variables.\u001b[0m\u001b[0;34m\u001b[0m\u001b[0;34m\u001b[0m\u001b[0m\n\u001b[0;32m--> 868\u001b[0;31m       return tracing_compilation.call_function(\n\u001b[0m\u001b[1;32m    869\u001b[0m           \u001b[0margs\u001b[0m\u001b[0;34m,\u001b[0m \u001b[0mkwds\u001b[0m\u001b[0;34m,\u001b[0m \u001b[0mself\u001b[0m\u001b[0;34m.\u001b[0m\u001b[0m_no_variable_creation_config\u001b[0m\u001b[0;34m\u001b[0m\u001b[0;34m\u001b[0m\u001b[0m\n\u001b[1;32m    870\u001b[0m       )\n",
            "\u001b[0;32m/usr/local/lib/python3.10/dist-packages/tensorflow/python/eager/polymorphic_function/tracing_compilation.py\u001b[0m in \u001b[0;36mcall_function\u001b[0;34m(args, kwargs, tracing_options)\u001b[0m\n\u001b[1;32m    137\u001b[0m   \u001b[0mbound_args\u001b[0m \u001b[0;34m=\u001b[0m \u001b[0mfunction\u001b[0m\u001b[0;34m.\u001b[0m\u001b[0mfunction_type\u001b[0m\u001b[0;34m.\u001b[0m\u001b[0mbind\u001b[0m\u001b[0;34m(\u001b[0m\u001b[0;34m*\u001b[0m\u001b[0margs\u001b[0m\u001b[0;34m,\u001b[0m \u001b[0;34m**\u001b[0m\u001b[0mkwargs\u001b[0m\u001b[0;34m)\u001b[0m\u001b[0;34m\u001b[0m\u001b[0;34m\u001b[0m\u001b[0m\n\u001b[1;32m    138\u001b[0m   \u001b[0mflat_inputs\u001b[0m \u001b[0;34m=\u001b[0m \u001b[0mfunction\u001b[0m\u001b[0;34m.\u001b[0m\u001b[0mfunction_type\u001b[0m\u001b[0;34m.\u001b[0m\u001b[0munpack_inputs\u001b[0m\u001b[0;34m(\u001b[0m\u001b[0mbound_args\u001b[0m\u001b[0;34m)\u001b[0m\u001b[0;34m\u001b[0m\u001b[0;34m\u001b[0m\u001b[0m\n\u001b[0;32m--> 139\u001b[0;31m   return function._call_flat(  # pylint: disable=protected-access\n\u001b[0m\u001b[1;32m    140\u001b[0m       \u001b[0mflat_inputs\u001b[0m\u001b[0;34m,\u001b[0m \u001b[0mcaptured_inputs\u001b[0m\u001b[0;34m=\u001b[0m\u001b[0mfunction\u001b[0m\u001b[0;34m.\u001b[0m\u001b[0mcaptured_inputs\u001b[0m\u001b[0;34m\u001b[0m\u001b[0;34m\u001b[0m\u001b[0m\n\u001b[1;32m    141\u001b[0m   )\n",
            "\u001b[0;32m/usr/local/lib/python3.10/dist-packages/tensorflow/python/eager/polymorphic_function/concrete_function.py\u001b[0m in \u001b[0;36m_call_flat\u001b[0;34m(self, tensor_inputs, captured_inputs)\u001b[0m\n\u001b[1;32m   1321\u001b[0m         and executing_eagerly):\n\u001b[1;32m   1322\u001b[0m       \u001b[0;31m# No tape is watching; skip to running the function.\u001b[0m\u001b[0;34m\u001b[0m\u001b[0;34m\u001b[0m\u001b[0m\n\u001b[0;32m-> 1323\u001b[0;31m       \u001b[0;32mreturn\u001b[0m \u001b[0mself\u001b[0m\u001b[0;34m.\u001b[0m\u001b[0m_inference_function\u001b[0m\u001b[0;34m.\u001b[0m\u001b[0mcall_preflattened\u001b[0m\u001b[0;34m(\u001b[0m\u001b[0margs\u001b[0m\u001b[0;34m)\u001b[0m\u001b[0;34m\u001b[0m\u001b[0;34m\u001b[0m\u001b[0m\n\u001b[0m\u001b[1;32m   1324\u001b[0m     forward_backward = self._select_forward_and_backward_functions(\n\u001b[1;32m   1325\u001b[0m         \u001b[0margs\u001b[0m\u001b[0;34m,\u001b[0m\u001b[0;34m\u001b[0m\u001b[0;34m\u001b[0m\u001b[0m\n",
            "\u001b[0;32m/usr/local/lib/python3.10/dist-packages/tensorflow/python/eager/polymorphic_function/atomic_function.py\u001b[0m in \u001b[0;36mcall_preflattened\u001b[0;34m(self, args)\u001b[0m\n\u001b[1;32m    214\u001b[0m   \u001b[0;32mdef\u001b[0m \u001b[0mcall_preflattened\u001b[0m\u001b[0;34m(\u001b[0m\u001b[0mself\u001b[0m\u001b[0;34m,\u001b[0m \u001b[0margs\u001b[0m\u001b[0;34m:\u001b[0m \u001b[0mSequence\u001b[0m\u001b[0;34m[\u001b[0m\u001b[0mcore\u001b[0m\u001b[0;34m.\u001b[0m\u001b[0mTensor\u001b[0m\u001b[0;34m]\u001b[0m\u001b[0;34m)\u001b[0m \u001b[0;34m->\u001b[0m \u001b[0mAny\u001b[0m\u001b[0;34m:\u001b[0m\u001b[0;34m\u001b[0m\u001b[0;34m\u001b[0m\u001b[0m\n\u001b[1;32m    215\u001b[0m     \u001b[0;34m\"\"\"Calls with flattened tensor inputs and returns the structured output.\"\"\"\u001b[0m\u001b[0;34m\u001b[0m\u001b[0;34m\u001b[0m\u001b[0m\n\u001b[0;32m--> 216\u001b[0;31m     \u001b[0mflat_outputs\u001b[0m \u001b[0;34m=\u001b[0m \u001b[0mself\u001b[0m\u001b[0;34m.\u001b[0m\u001b[0mcall_flat\u001b[0m\u001b[0;34m(\u001b[0m\u001b[0;34m*\u001b[0m\u001b[0margs\u001b[0m\u001b[0;34m)\u001b[0m\u001b[0;34m\u001b[0m\u001b[0;34m\u001b[0m\u001b[0m\n\u001b[0m\u001b[1;32m    217\u001b[0m     \u001b[0;32mreturn\u001b[0m \u001b[0mself\u001b[0m\u001b[0;34m.\u001b[0m\u001b[0mfunction_type\u001b[0m\u001b[0;34m.\u001b[0m\u001b[0mpack_output\u001b[0m\u001b[0;34m(\u001b[0m\u001b[0mflat_outputs\u001b[0m\u001b[0;34m)\u001b[0m\u001b[0;34m\u001b[0m\u001b[0;34m\u001b[0m\u001b[0m\n\u001b[1;32m    218\u001b[0m \u001b[0;34m\u001b[0m\u001b[0m\n",
            "\u001b[0;32m/usr/local/lib/python3.10/dist-packages/tensorflow/python/eager/polymorphic_function/atomic_function.py\u001b[0m in \u001b[0;36mcall_flat\u001b[0;34m(self, *args)\u001b[0m\n\u001b[1;32m    249\u001b[0m         \u001b[0;32mwith\u001b[0m \u001b[0mrecord\u001b[0m\u001b[0;34m.\u001b[0m\u001b[0mstop_recording\u001b[0m\u001b[0;34m(\u001b[0m\u001b[0;34m)\u001b[0m\u001b[0;34m:\u001b[0m\u001b[0;34m\u001b[0m\u001b[0;34m\u001b[0m\u001b[0m\n\u001b[1;32m    250\u001b[0m           \u001b[0;32mif\u001b[0m \u001b[0mself\u001b[0m\u001b[0;34m.\u001b[0m\u001b[0m_bound_context\u001b[0m\u001b[0;34m.\u001b[0m\u001b[0mexecuting_eagerly\u001b[0m\u001b[0;34m(\u001b[0m\u001b[0;34m)\u001b[0m\u001b[0;34m:\u001b[0m\u001b[0;34m\u001b[0m\u001b[0;34m\u001b[0m\u001b[0m\n\u001b[0;32m--> 251\u001b[0;31m             outputs = self._bound_context.call_function(\n\u001b[0m\u001b[1;32m    252\u001b[0m                 \u001b[0mself\u001b[0m\u001b[0;34m.\u001b[0m\u001b[0mname\u001b[0m\u001b[0;34m,\u001b[0m\u001b[0;34m\u001b[0m\u001b[0;34m\u001b[0m\u001b[0m\n\u001b[1;32m    253\u001b[0m                 \u001b[0mlist\u001b[0m\u001b[0;34m(\u001b[0m\u001b[0margs\u001b[0m\u001b[0;34m)\u001b[0m\u001b[0;34m,\u001b[0m\u001b[0;34m\u001b[0m\u001b[0;34m\u001b[0m\u001b[0m\n",
            "\u001b[0;32m/usr/local/lib/python3.10/dist-packages/tensorflow/python/eager/context.py\u001b[0m in \u001b[0;36mcall_function\u001b[0;34m(self, name, tensor_inputs, num_outputs)\u001b[0m\n\u001b[1;32m   1484\u001b[0m     \u001b[0mcancellation_context\u001b[0m \u001b[0;34m=\u001b[0m \u001b[0mcancellation\u001b[0m\u001b[0;34m.\u001b[0m\u001b[0mcontext\u001b[0m\u001b[0;34m(\u001b[0m\u001b[0;34m)\u001b[0m\u001b[0;34m\u001b[0m\u001b[0;34m\u001b[0m\u001b[0m\n\u001b[1;32m   1485\u001b[0m     \u001b[0;32mif\u001b[0m \u001b[0mcancellation_context\u001b[0m \u001b[0;32mis\u001b[0m \u001b[0;32mNone\u001b[0m\u001b[0;34m:\u001b[0m\u001b[0;34m\u001b[0m\u001b[0;34m\u001b[0m\u001b[0m\n\u001b[0;32m-> 1486\u001b[0;31m       outputs = execute.execute(\n\u001b[0m\u001b[1;32m   1487\u001b[0m           \u001b[0mname\u001b[0m\u001b[0;34m.\u001b[0m\u001b[0mdecode\u001b[0m\u001b[0;34m(\u001b[0m\u001b[0;34m\"utf-8\"\u001b[0m\u001b[0;34m)\u001b[0m\u001b[0;34m,\u001b[0m\u001b[0;34m\u001b[0m\u001b[0;34m\u001b[0m\u001b[0m\n\u001b[1;32m   1488\u001b[0m           \u001b[0mnum_outputs\u001b[0m\u001b[0;34m=\u001b[0m\u001b[0mnum_outputs\u001b[0m\u001b[0;34m,\u001b[0m\u001b[0;34m\u001b[0m\u001b[0;34m\u001b[0m\u001b[0m\n",
            "\u001b[0;32m/usr/local/lib/python3.10/dist-packages/tensorflow/python/eager/execute.py\u001b[0m in \u001b[0;36mquick_execute\u001b[0;34m(op_name, num_outputs, inputs, attrs, ctx, name)\u001b[0m\n\u001b[1;32m     51\u001b[0m   \u001b[0;32mtry\u001b[0m\u001b[0;34m:\u001b[0m\u001b[0;34m\u001b[0m\u001b[0;34m\u001b[0m\u001b[0m\n\u001b[1;32m     52\u001b[0m     \u001b[0mctx\u001b[0m\u001b[0;34m.\u001b[0m\u001b[0mensure_initialized\u001b[0m\u001b[0;34m(\u001b[0m\u001b[0;34m)\u001b[0m\u001b[0;34m\u001b[0m\u001b[0;34m\u001b[0m\u001b[0m\n\u001b[0;32m---> 53\u001b[0;31m     tensors = pywrap_tfe.TFE_Py_Execute(ctx._handle, device_name, op_name,\n\u001b[0m\u001b[1;32m     54\u001b[0m                                         inputs, attrs, num_outputs)\n\u001b[1;32m     55\u001b[0m   \u001b[0;32mexcept\u001b[0m \u001b[0mcore\u001b[0m\u001b[0;34m.\u001b[0m\u001b[0m_NotOkStatusException\u001b[0m \u001b[0;32mas\u001b[0m \u001b[0me\u001b[0m\u001b[0;34m:\u001b[0m\u001b[0;34m\u001b[0m\u001b[0;34m\u001b[0m\u001b[0m\n",
            "\u001b[0;31mKeyboardInterrupt\u001b[0m: "
          ]
        }
      ]
    },
    {
      "cell_type": "markdown",
      "source": [
        "# Model Metrics"
      ],
      "metadata": {
        "id": "dnezpNIcwjeG"
      }
    },
    {
      "cell_type": "code",
      "source": [
        "from tensorflow.keras.models import load_model\n",
        "import numpy as np\n",
        "from sklearn.preprocessing import MinMaxScaler\n",
        "\n",
        "model_path = pathlib.Path(\"TradeMind/colab/models/mark_2.keras\")\n",
        "model = load_model(model_path)\n",
        "\n",
        "steps = 10\n",
        "\n",
        "test_df = get_training_data(INDEX)[1]\n",
        "\n",
        "scaler = MinMaxScaler()\n",
        "scaled_data_test = scaler.fit_transform(test_df[['close', 'volume']])\n",
        "\n",
        "def create_sequences(data, steps):\n",
        "    X, y = [], []\n",
        "    for i in range(len(data) - steps):\n",
        "        X.append(data[i:(i + steps), :])\n",
        "        y.append(data[i + steps, 0])  # Assuming 'close' is at index 0\n",
        "    return np.array(X), np.array(y)\n",
        "\n",
        "X_test, y_test = create_sequences(scaled_data_test, steps)"
      ],
      "metadata": {
        "id": "ikShMDROjW-Z"
      },
      "execution_count": null,
      "outputs": []
    },
    {
      "cell_type": "markdown",
      "source": [
        "### Mean Absolute Error (MAE)\n",
        "![mae.png](data:image/png;base64,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)\n",
        "\n",
        "\n"
      ],
      "metadata": {
        "id": "anoNnitL7mdm"
      }
    },
    {
      "cell_type": "code",
      "source": [
        "\n",
        "average_close_price_test = test_df['close'].mean()\n",
        "\n",
        "mae = model.evaluate(X_test, y_test, verbose=0)[1]\n",
        "\n",
        "print(f'MAE: {mae:.4f}')\n",
        "print(f'Average Close Price in Test Set: {average_close_price_test:.2f}')\n",
        "print(f'MAE as Percentage of Average Close Price: {(mae/average_close_price_test) * 100:.4f}%')\n",
        "model.save('mark_2.keras')\n"
      ],
      "metadata": {
        "colab": {
          "base_uri": "https://localhost:8080/"
        },
        "id": "lPPshs0TbaZS",
        "outputId": "4887dcb3-a8f8-46e5-893c-783a41f8e6fd"
      },
      "execution_count": null,
      "outputs": [
        {
          "output_type": "stream",
          "name": "stdout",
          "text": [
            "MAE: 0.0020\n",
            "Average Close Price in Test Set: 103.87\n",
            "MAE as Percentage of Average Close Price: 0.0019%\n"
          ]
        }
      ]
    },
    {
      "cell_type": "markdown",
      "source": [],
      "metadata": {
        "id": "cwpPa3jt-FDY"
      }
    }
  ]
}